{
  "nbformat": 4,
  "nbformat_minor": 0,
  "metadata": {
    "colab": {
      "provenance": [],
      "authorship_tag": "ABX9TyNenEWvNzY4d/dXuZDlDG62",
      "include_colab_link": true
    },
    "kernelspec": {
      "name": "python3",
      "display_name": "Python 3"
    },
    "language_info": {
      "name": "python"
    }
  },
  "cells": [
    {
      "cell_type": "markdown",
      "metadata": {
        "id": "view-in-github",
        "colab_type": "text"
      },
      "source": [
        "<a href=\"https://colab.research.google.com/github/Akshaysarsamkar/datamining/blob/main/SupportVectorMachine.ipynb\" target=\"_parent\"><img src=\"https://colab.research.google.com/assets/colab-badge.svg\" alt=\"Open In Colab\"/></a>"
      ]
    },
    {
      "cell_type": "code",
      "execution_count": null,
      "metadata": {
        "id": "cJEePj27b_-M"
      },
      "outputs": [],
      "source": [
        "import pandas as pd"
      ]
    },
    {
      "cell_type": "code",
      "source": [
        "df = pd.DataFrame({\n",
        "   'outlook' : [\n",
        "10,\n",
        "20,\n",
        "30,\n",
        "40,\n",
        "50,\n",
        "40,\n",
        "20,\n",
        "10,\n",
        "44,\n",
        "32,\n",
        "50,\n",
        "8,\n",
        "5\n",
        ",2\n",
        "],\n",
        "\n",
        "'Temperature' : [\n",
        "\"Hot\",\n",
        "\"Hot\",\n",
        "\"Hot\",\n",
        "\"Mild\",\n",
        "\"Cool\",\n",
        "\"Cool\",\n",
        "\"Cool\",\n",
        "\"Mild\",\n",
        "\"Cool\",\n",
        "\"Mild\",\n",
        "\"Mild\",\n",
        "\"Mild\",\n",
        "\"Hot\",\n",
        "\"Mild\"],\n",
        "\n",
        "'PlayTennis': [\n",
        "\"No\",\n",
        "\"No\",\n",
        "\"Yes\",\n",
        "\"Yes\",\n",
        "\"Yes\",\n",
        "\"No\",\n",
        "\"Yes\",\n",
        "\"No\",\n",
        "\"Yes\",\n",
        "\"Yes\",\n",
        "\"Yes\",\n",
        "\"Yes\",\n",
        "\"Yes\",\n",
        "\"No\"\n",
        "]\n",
        "\n",
        "})\n",
        "\n",
        "\n",
        "print (df)"
      ],
      "metadata": {
        "colab": {
          "base_uri": "https://localhost:8080/"
        },
        "id": "3UUbZF1hcIyY",
        "outputId": "709bdda4-ed28-4447-dfe7-2275a5659700"
      },
      "execution_count": null,
      "outputs": [
        {
          "output_type": "stream",
          "name": "stdout",
          "text": [
            "    outlook Temperature PlayTennis\n",
            "0        10         Hot         No\n",
            "1        20         Hot         No\n",
            "2        30         Hot        Yes\n",
            "3        40        Mild        Yes\n",
            "4        50        Cool        Yes\n",
            "5        40        Cool         No\n",
            "6        20        Cool        Yes\n",
            "7        10        Mild         No\n",
            "8        44        Cool        Yes\n",
            "9        32        Mild        Yes\n",
            "10       50        Mild        Yes\n",
            "11        8        Mild        Yes\n",
            "12        5         Hot        Yes\n",
            "13        2        Mild         No\n"
          ]
        }
      ]
    },
    {
      "cell_type": "code",
      "source": [
        "x = df.iloc[:, 0:2].values\n",
        "x"
      ],
      "metadata": {
        "colab": {
          "base_uri": "https://localhost:8080/"
        },
        "id": "xodwvCfKcWjq",
        "outputId": "95a1f63f-0d86-43d1-a95c-0cdaa847dc00"
      },
      "execution_count": null,
      "outputs": [
        {
          "output_type": "execute_result",
          "data": {
            "text/plain": [
              "array([[10, 'Hot'],\n",
              "       [20, 'Hot'],\n",
              "       [30, 'Hot'],\n",
              "       [40, 'Mild'],\n",
              "       [50, 'Cool'],\n",
              "       [40, 'Cool'],\n",
              "       [20, 'Cool'],\n",
              "       [10, 'Mild'],\n",
              "       [44, 'Cool'],\n",
              "       [32, 'Mild'],\n",
              "       [50, 'Mild'],\n",
              "       [8, 'Mild'],\n",
              "       [5, 'Hot'],\n",
              "       [2, 'Mild']], dtype=object)"
            ]
          },
          "metadata": {},
          "execution_count": 68
        }
      ]
    },
    {
      "cell_type": "code",
      "source": [
        "y = df.iloc[:, -1].values\n",
        "y"
      ],
      "metadata": {
        "colab": {
          "base_uri": "https://localhost:8080/"
        },
        "id": "nkdbXfAOc0-C",
        "outputId": "1452156c-3ff0-46d9-b455-42568dcd4dbb"
      },
      "execution_count": null,
      "outputs": [
        {
          "output_type": "execute_result",
          "data": {
            "text/plain": [
              "array(['No', 'No', 'Yes', 'Yes', 'Yes', 'No', 'Yes', 'No', 'Yes', 'Yes',\n",
              "       'Yes', 'Yes', 'Yes', 'No'], dtype=object)"
            ]
          },
          "metadata": {},
          "execution_count": 69
        }
      ]
    },
    {
      "cell_type": "code",
      "source": [
        "from sklearn.preprocessing import LabelEncoder\n",
        "l = LabelEncoder ()\n",
        "x[:,1] = l. fit_transform (x[:, 1])\n",
        "x"
      ],
      "metadata": {
        "colab": {
          "base_uri": "https://localhost:8080/"
        },
        "id": "gCKEmuwcc_k8",
        "outputId": "2f4bf9b5-e7c2-4670-e6aa-afe26caca4f0"
      },
      "execution_count": null,
      "outputs": [
        {
          "output_type": "execute_result",
          "data": {
            "text/plain": [
              "array([[10, 1],\n",
              "       [20, 1],\n",
              "       [30, 1],\n",
              "       [40, 2],\n",
              "       [50, 0],\n",
              "       [40, 0],\n",
              "       [20, 0],\n",
              "       [10, 2],\n",
              "       [44, 0],\n",
              "       [32, 2],\n",
              "       [50, 2],\n",
              "       [8, 2],\n",
              "       [5, 1],\n",
              "       [2, 2]], dtype=object)"
            ]
          },
          "metadata": {},
          "execution_count": 70
        }
      ]
    },
    {
      "cell_type": "code",
      "source": [
        "y = l.fit_transform (y)\n",
        "y"
      ],
      "metadata": {
        "colab": {
          "base_uri": "https://localhost:8080/"
        },
        "id": "q8nicN9IdlIW",
        "outputId": "2070c7cf-354d-4983-87e4-674ddad3457f"
      },
      "execution_count": null,
      "outputs": [
        {
          "output_type": "execute_result",
          "data": {
            "text/plain": [
              "array([0, 0, 1, 1, 1, 0, 1, 0, 1, 1, 1, 1, 1, 0])"
            ]
          },
          "metadata": {},
          "execution_count": 85
        }
      ]
    },
    {
      "cell_type": "code",
      "source": [
        "from sklearn. model_selection import train_test_split"
      ],
      "metadata": {
        "id": "TyEoXsxkd1x_"
      },
      "execution_count": null,
      "outputs": []
    },
    {
      "cell_type": "code",
      "source": [
        "x_train,x_test, y_train, y_test = train_test_split(x, y, test_size=0.30)"
      ],
      "metadata": {
        "id": "IRISRjJrdpH6"
      },
      "execution_count": null,
      "outputs": []
    },
    {
      "cell_type": "code",
      "source": [
        "x_train"
      ],
      "metadata": {
        "colab": {
          "base_uri": "https://localhost:8080/"
        },
        "id": "l3epvYF5eAdX",
        "outputId": "25a9d317-eb74-49ee-8089-816ab12aa5ea"
      },
      "execution_count": null,
      "outputs": [
        {
          "output_type": "execute_result",
          "data": {
            "text/plain": [
              "array([[5, 1],\n",
              "       [40, 0],\n",
              "       [20, 0],\n",
              "       [8, 2],\n",
              "       [30, 1],\n",
              "       [44, 0],\n",
              "       [50, 2],\n",
              "       [40, 2],\n",
              "       [50, 0]], dtype=object)"
            ]
          },
          "metadata": {},
          "execution_count": 88
        }
      ]
    },
    {
      "cell_type": "code",
      "source": [
        "y_train"
      ],
      "metadata": {
        "colab": {
          "base_uri": "https://localhost:8080/"
        },
        "id": "sE2b_Ov7fN3R",
        "outputId": "b0531451-9c27-4c89-fc11-729251de0f75"
      },
      "execution_count": null,
      "outputs": [
        {
          "output_type": "execute_result",
          "data": {
            "text/plain": [
              "array([1, 0, 1, 1, 1, 1, 1, 1, 1])"
            ]
          },
          "metadata": {},
          "execution_count": 89
        }
      ]
    },
    {
      "cell_type": "code",
      "source": [
        "x_test"
      ],
      "metadata": {
        "colab": {
          "base_uri": "https://localhost:8080/"
        },
        "id": "Nhi_BLKKeCsN",
        "outputId": "c00a7be7-fe0e-4d24-85c9-242c083f88db"
      },
      "execution_count": null,
      "outputs": [
        {
          "output_type": "execute_result",
          "data": {
            "text/plain": [
              "array([[10, 1],\n",
              "       [32, 2],\n",
              "       [20, 1],\n",
              "       [2, 2],\n",
              "       [10, 2]], dtype=object)"
            ]
          },
          "metadata": {},
          "execution_count": 90
        }
      ]
    },
    {
      "cell_type": "code",
      "source": [
        "len(x_test)"
      ],
      "metadata": {
        "colab": {
          "base_uri": "https://localhost:8080/"
        },
        "id": "3AZaVR6veEZw",
        "outputId": "128a8441-0e39-491e-9d20-0a10dd890323"
      },
      "execution_count": null,
      "outputs": [
        {
          "output_type": "execute_result",
          "data": {
            "text/plain": [
              "5"
            ]
          },
          "metadata": {},
          "execution_count": 91
        }
      ]
    },
    {
      "cell_type": "code",
      "source": [
        "len(x_train)"
      ],
      "metadata": {
        "colab": {
          "base_uri": "https://localhost:8080/"
        },
        "id": "_GxEy1zHeHXZ",
        "outputId": "ee8e809c-5447-41d1-ea82-acffdb40ef23"
      },
      "execution_count": null,
      "outputs": [
        {
          "output_type": "execute_result",
          "data": {
            "text/plain": [
              "9"
            ]
          },
          "metadata": {},
          "execution_count": 92
        }
      ]
    },
    {
      "cell_type": "code",
      "source": [
        "from sklearn.svm import SVC\n",
        "model = SVC(kernel='linear')\n",
        "model.fit(x_train, y_train)\n",
        "model.predict([[10, 1]])"
      ],
      "metadata": {
        "colab": {
          "base_uri": "https://localhost:8080/"
        },
        "id": "vfGMvKTJeOQc",
        "outputId": "6901845f-07d8-4a19-9efe-c4f929c1af6c"
      },
      "execution_count": null,
      "outputs": [
        {
          "output_type": "execute_result",
          "data": {
            "text/plain": [
              "array([1])"
            ]
          },
          "metadata": {},
          "execution_count": 93
        }
      ]
    },
    {
      "cell_type": "code",
      "source": [
        "model.score (x_test,y_test)"
      ],
      "metadata": {
        "colab": {
          "base_uri": "https://localhost:8080/"
        },
        "id": "wxu9tWmpfVcn",
        "outputId": "8e460840-ce16-44aa-a7f3-ebbf0c8adb98"
      },
      "execution_count": null,
      "outputs": [
        {
          "output_type": "execute_result",
          "data": {
            "text/plain": [
              "0.2"
            ]
          },
          "metadata": {},
          "execution_count": 94
        }
      ]
    },
    {
      "cell_type": "code",
      "source": [
        "model.score(x_train, y_train)"
      ],
      "metadata": {
        "colab": {
          "base_uri": "https://localhost:8080/"
        },
        "id": "HJnUxWfyfc_F",
        "outputId": "303431d2-84f3-4df9-f0b8-3e805602b693"
      },
      "execution_count": null,
      "outputs": [
        {
          "output_type": "execute_result",
          "data": {
            "text/plain": [
              "0.8888888888888888"
            ]
          },
          "metadata": {},
          "execution_count": 95
        }
      ]
    },
    {
      "cell_type": "code",
      "source": [
        "import matplotlib.pyplot as plt\n",
        "import numpy as np\n",
        "x_min, x_max = x[:, 0].min() - 1, x[:, 0].max() + 1\n",
        "y_min, y_max = x[:, 1].min() - 1, x[:, 1].max() + 1\n",
        "h = (x_max / x_min)/100\n",
        "xx, yy = np.meshgrid(np.arange(x_min, x_max, h),\n",
        " np.arange(y_min, y_max, h))\n",
        "plt.subplot(1, 1, 1)\n",
        "Z = model.predict(np.c_[xx.ravel(), yy.ravel()])\n",
        "Z = Z.reshape(xx.shape)\n",
        "plt.contourf(xx, yy, Z, cmap=plt.cm.Paired, alpha=0.8)\n",
        "plt.scatter(x[:, 0], x[:, 1], c=y, cmap=plt.cm.Paired)\n",
        "plt.xlabel('Sepal length')\n",
        "plt.ylabel('Sepal width')\n",
        "plt.xlim(xx.min(), xx.max())\n",
        "plt.title('SVC with linear kernel')"
      ],
      "metadata": {
        "colab": {
          "base_uri": "https://localhost:8080/",
          "height": 291
        },
        "id": "Q8nYL95zf2ZQ",
        "outputId": "bdf1890d-eb34-4b1a-e6ba-b39627125f25"
      },
      "execution_count": null,
      "outputs": [
        {
          "output_type": "execute_result",
          "data": {
            "text/plain": [
              "Text(0.5, 1.0, 'SVC with linear kernel')"
            ]
          },
          "metadata": {},
          "execution_count": 97
        },
        {
          "output_type": "display_data",
          "data": {
            "text/plain": [
              "<Figure size 640x480 with 1 Axes>"
            ],
            "image/png": "[encoded data removed]"
          },
          "metadata": {}
        }
      ]
    },
    {
      "cell_type": "code",
      "source": [
        "model = SVC(kernel='poly')\n",
        "model.fit(x_train, y_train)\n",
        "model.predict([[10, 1]])"
      ],
      "metadata": {
        "colab": {
          "base_uri": "https://localhost:8080/"
        },
        "id": "GyAMqigDjOHw",
        "outputId": "af1e5a09-4e7c-493e-83dd-b22526d6dca1"
      },
      "execution_count": null,
      "outputs": [
        {
          "output_type": "execute_result",
          "data": {
            "text/plain": [
              "array([1])"
            ]
          },
          "metadata": {},
          "execution_count": 102
        }
      ]
    },
    {
      "cell_type": "code",
      "source": [
        "import matplotlib.pyplot as plt\n",
        "import numpy as np\n",
        "x_min, x_max = x[:, 0].min() - 1, x[:, 0].max() + 1\n",
        "y_min, y_max = x[:, 1].min() - 1, x[:, 1].max() + 1\n",
        "h = (x_max / x_min)/100\n",
        "xx, yy = np.meshgrid(np.arange(x_min, x_max, h),\n",
        " np.arange(y_min, y_max, h))\n",
        "plt.subplot(1, 1, 1)\n",
        "Z = model.predict(np.c_[xx.ravel(), yy.ravel()])\n",
        "Z = Z.reshape(xx.shape)\n",
        "plt.contourf(xx, yy, Z, cmap=plt.cm.Paired, alpha=0.8)\n",
        "plt.scatter(x[:, 0], x[:, 1], c=y, cmap=plt.cm.Paired)\n",
        "plt.xlabel('Sepal length')\n",
        "plt.ylabel('Sepal width')\n",
        "plt.xlim(xx.min(), xx.max())\n",
        "plt.title('SVC with linear kernel')"
      ],
      "metadata": {
        "colab": {
          "base_uri": "https://localhost:8080/",
          "height": 291
        },
        "id": "3RSsCwuyjWWZ",
        "outputId": "e20da84f-5eaf-46df-8869-0468504a055a"
      },
      "execution_count": null,
      "outputs": [
        {
          "output_type": "execute_result",
          "data": {
            "text/plain": [
              "Text(0.5, 1.0, 'SVC with linear kernel')"
            ]
          },
          "metadata": {},
          "execution_count": 103
        },
        {
          "output_type": "display_data",
          "data": {
            "text/plain": [
              "<Figure size 640x480 with 1 Axes>"
            ],
            "image/png": "[encoded data removed]"
          },
          "metadata": {}
        }
      ]
    }
  ]
}