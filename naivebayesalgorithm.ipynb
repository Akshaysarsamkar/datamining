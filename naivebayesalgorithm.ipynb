{
  "nbformat": 4,
  "nbformat_minor": 0,
  "metadata": {
    "colab": {
      "provenance": [],
      "authorship_tag": "ABX9TyPFgxs4ROdOrpb8X5M8FsiG",
      "include_colab_link": true
    },
    "kernelspec": {
      "name": "python3",
      "display_name": "Python 3"
    },
    "language_info": {
      "name": "python"
    }
  },
  "cells": [
    {
      "cell_type": "markdown",
      "metadata": {
        "id": "view-in-github",
        "colab_type": "text"
      },
      "source": [
        "<a href=\"https://colab.research.google.com/github/Akshaysarsamkar/datamining/blob/main/naivebayesalgorithm.ipynb\" target=\"_parent\"><img src=\"https://colab.research.google.com/assets/colab-badge.svg\" alt=\"Open In Colab\"/></a>"
      ]
    },
    {
      "cell_type": "code",
      "execution_count": 1,
      "metadata": {
        "id": "sAmVcRzbFn5p"
      },
      "outputs": [],
      "source": [
        "import pandas as pd\n",
        "import numpy as np\n",
        "import matplotlib.pyplot as plt"
      ]
    },
    {
      "cell_type": "code",
      "source": [
        "df = pd.DataFrame({\n",
        "   'outlook' : [\n",
        "\"Sunny\",\n",
        "\"Sunny\",\n",
        "\"Overcast\",\n",
        "\"Rain\",\n",
        "\"Rain\",\n",
        "\"Rain\",\n",
        "\"Overcast\",\n",
        "\"Sunny\",\n",
        "\"Sunny\",\n",
        "\"Rain\",\n",
        "\"Sunny\",\n",
        "\"Overcast\",\n",
        "\"Overcast\",\n",
        "\"Rain\" ],\n",
        "\n",
        "'Temperature' : [\n",
        "\"Hot\",\n",
        "\"Hot\",\n",
        "\"Hot\",\n",
        "\"Mild\",\n",
        "\"Cool\",\n",
        "\"Cool\",\n",
        "\"Cool\",\n",
        "\"Mild\",\n",
        "\"Cool\",\n",
        "\"Mild\",\n",
        "\"Mild\",\n",
        "\"Mild\",\n",
        "\"Hot\",\n",
        "\"Mild\"],\n",
        "\n",
        "'Humidity' : [\n",
        "\"High\",\n",
        "\"High\",\n",
        "\"High\",\n",
        "\"High\",\n",
        "\"Normal\",\n",
        "\"Normal\",\n",
        "\"Normal\",\n",
        "\"High\",\n",
        "\"Normal\",\n",
        "\"Normal\",\n",
        "\"Normal\",\n",
        "\"High\",\n",
        "\"Normal\",\n",
        "\"High\"\n",
        "],\n",
        "\n",
        "'Wind': [\n",
        "\"Weak\",\n",
        "\"Strong\",\n",
        "\"Weak\",\n",
        "\"Weak\",\n",
        "\"Weak\",\n",
        "\"Strong\",\n",
        "\"Strong\",\n",
        "\"Weak\",\n",
        "\"Weak\",\n",
        "\"Weak\",\n",
        "\"Strong\",\n",
        "\"Strong\",\n",
        "\"Weak\",\n",
        "\"Strong\"\n",
        "],\n",
        "\n",
        "'PlayTennis': [\n",
        "\"No\",\n",
        "\"No\",\n",
        "\"Yes\",\n",
        "\"Yes\",\n",
        "\"Yes\",\n",
        "\"No\",\n",
        "\"Yes\",\n",
        "\"No\",\n",
        "\"Yes\",\n",
        "\"Yes\",\n",
        "\"Yes\",\n",
        "\"Yes\",\n",
        "\"Yes\",\n",
        "\"No\"\n",
        "]\n",
        "\n",
        "})\n",
        "\n",
        "\n",
        "print (df)"
      ],
      "metadata": {
        "colab": {
          "base_uri": "https://localhost:8080/"
        },
        "id": "3c2IPNhhGrUl",
        "outputId": "e16316da-921c-430f-9e0d-f3252ad422ac"
      },
      "execution_count": 2,
      "outputs": [
        {
          "output_type": "stream",
          "name": "stdout",
          "text": [
            "     outlook Temperature Humidity    Wind PlayTennis\n",
            "0      Sunny         Hot     High    Weak         No\n",
            "1      Sunny         Hot     High  Strong         No\n",
            "2   Overcast         Hot     High    Weak        Yes\n",
            "3       Rain        Mild     High    Weak        Yes\n",
            "4       Rain        Cool   Normal    Weak        Yes\n",
            "5       Rain        Cool   Normal  Strong         No\n",
            "6   Overcast        Cool   Normal  Strong        Yes\n",
            "7      Sunny        Mild     High    Weak         No\n",
            "8      Sunny        Cool   Normal    Weak        Yes\n",
            "9       Rain        Mild   Normal    Weak        Yes\n",
            "10     Sunny        Mild   Normal  Strong        Yes\n",
            "11  Overcast        Mild     High  Strong        Yes\n",
            "12  Overcast         Hot   Normal    Weak        Yes\n",
            "13      Rain        Mild     High  Strong         No\n"
          ]
        }
      ]
    },
    {
      "cell_type": "code",
      "source": [
        "x = df.iloc[:,0:4].values\n",
        "x"
      ],
      "metadata": {
        "colab": {
          "base_uri": "https://localhost:8080/"
        },
        "id": "XGBgRxECGxC1",
        "outputId": "603144fe-4ed0-4e47-913c-46e3f53d198b"
      },
      "execution_count": null,
      "outputs": [
        {
          "output_type": "execute_result",
          "data": {
            "text/plain": [
              "array([['Sunny', 'Hot', 'High', 'Weak'],\n",
              "       ['Sunny', 'Hot', 'High', 'Strong'],\n",
              "       ['Overcast', 'Hot', 'High', 'Weak'],\n",
              "       ['Rain', 'Mild', 'High', 'Weak'],\n",
              "       ['Rain', 'Cool', 'Normal', 'Weak'],\n",
              "       ['Rain', 'Cool', 'Normal', 'Strong'],\n",
              "       ['Overcast', 'Cool', 'Normal', 'Strong'],\n",
              "       ['Sunny', 'Mild', 'High', 'Weak'],\n",
              "       ['Sunny', 'Cool', 'Normal', 'Weak'],\n",
              "       ['Rain', 'Mild', 'Normal', 'Weak'],\n",
              "       ['Sunny', 'Mild', 'Normal', 'Strong'],\n",
              "       ['Overcast', 'Mild', 'High', 'Strong'],\n",
              "       ['Overcast', 'Hot', 'Normal', 'Weak'],\n",
              "       ['Rain', 'Mild', 'High', 'Strong']], dtype=object)"
            ]
          },
          "metadata": {},
          "execution_count": 78
        }
      ]
    },
    {
      "cell_type": "code",
      "source": [
        "y = df.iloc[:, -1].values\n",
        "y"
      ],
      "metadata": {
        "colab": {
          "base_uri": "https://localhost:8080/"
        },
        "id": "nDHquvhyJr2N",
        "outputId": "57fe72b2-a36f-4ff2-f3e3-9be62920137d"
      },
      "execution_count": null,
      "outputs": [
        {
          "output_type": "execute_result",
          "data": {
            "text/plain": [
              "array(['No', 'No', 'Yes', 'Yes', 'Yes', 'No', 'Yes', 'No', 'Yes', 'Yes',\n",
              "       'Yes', 'Yes', 'Yes', 'No'], dtype=object)"
            ]
          },
          "metadata": {},
          "execution_count": 146
        }
      ]
    },
    {
      "cell_type": "code",
      "source": [
        "from sklearn.preprocessing import LabelEncoder\n",
        "l = LabelEncoder()\n",
        "x[:, 0] = l. fit_transform (x[:, 0])\n",
        "x[:, 1] = l. fit_transform (x[:, 1])\n",
        "x[:, 2] = l. fit_transform (x[:, 2])\n",
        "x[:, 3] = l. fit_transform (x[:, 3])\n",
        "x"
      ],
      "metadata": {
        "colab": {
          "base_uri": "https://localhost:8080/"
        },
        "id": "3tOhs5XaKeEi",
        "outputId": "c5f08fb2-2fc1-40ea-f1b9-ea051e024bd6"
      },
      "execution_count": null,
      "outputs": [
        {
          "output_type": "execute_result",
          "data": {
            "text/plain": [
              "array([[2, 1, 0, 1],\n",
              "       [2, 1, 0, 0],\n",
              "       [0, 1, 0, 1],\n",
              "       [1, 2, 0, 1],\n",
              "       [1, 0, 1, 1],\n",
              "       [1, 0, 1, 0],\n",
              "       [0, 0, 1, 0],\n",
              "       [2, 2, 0, 1],\n",
              "       [2, 0, 1, 1],\n",
              "       [1, 2, 1, 1],\n",
              "       [2, 2, 1, 0],\n",
              "       [0, 2, 0, 0],\n",
              "       [0, 1, 1, 1],\n",
              "       [1, 2, 0, 0]], dtype=object)"
            ]
          },
          "metadata": {},
          "execution_count": 147
        }
      ]
    },
    {
      "cell_type": "code",
      "source": [
        "#y = l.fit_transform (y)\n",
        "y"
      ],
      "metadata": {
        "id": "-khctdb-LD12",
        "colab": {
          "base_uri": "https://localhost:8080/"
        },
        "outputId": "3201f3a6-a238-4415-91e7-91345a8ce4e2"
      },
      "execution_count": null,
      "outputs": [
        {
          "output_type": "execute_result",
          "data": {
            "text/plain": [
              "array(['No', 'No', 'Yes', 'Yes', 'Yes', 'No', 'Yes', 'No', 'Yes', 'Yes',\n",
              "       'Yes', 'Yes', 'Yes', 'No'], dtype=object)"
            ]
          },
          "metadata": {},
          "execution_count": 148
        }
      ]
    },
    {
      "cell_type": "code",
      "source": [
        "from sklearn.model_selection import train_test_split"
      ],
      "metadata": {
        "id": "xNYUMEexJ134"
      },
      "execution_count": null,
      "outputs": []
    },
    {
      "cell_type": "code",
      "source": [
        "x_train, x_test, y_train, y_test = train_test_split(x, y, test_size=0.20)"
      ],
      "metadata": {
        "id": "muyBTcUfKLge"
      },
      "execution_count": null,
      "outputs": []
    },
    {
      "cell_type": "code",
      "source": [
        "x_train"
      ],
      "metadata": {
        "colab": {
          "base_uri": "https://localhost:8080/"
        },
        "id": "cyodHNiAKYWr",
        "outputId": "a7428bbd-2936-48e0-d40a-d756e1a19506"
      },
      "execution_count": null,
      "outputs": [
        {
          "output_type": "execute_result",
          "data": {
            "text/plain": [
              "array([[0, 2, 0, 0],\n",
              "       [1, 2, 0, 1],\n",
              "       [1, 0, 1, 1],\n",
              "       [2, 2, 0, 1],\n",
              "       [1, 2, 1, 1],\n",
              "       [0, 0, 1, 0],\n",
              "       [1, 2, 0, 0],\n",
              "       [0, 1, 1, 1],\n",
              "       [2, 2, 1, 0],\n",
              "       [1, 0, 1, 0],\n",
              "       [2, 1, 0, 0]], dtype=object)"
            ]
          },
          "metadata": {},
          "execution_count": 169
        }
      ]
    },
    {
      "cell_type": "code",
      "source": [
        "y_train"
      ],
      "metadata": {
        "colab": {
          "base_uri": "https://localhost:8080/"
        },
        "id": "iuKpYsg9Lqnl",
        "outputId": "aa0f849d-41d5-477e-9242-e2d0aff56824"
      },
      "execution_count": null,
      "outputs": [
        {
          "output_type": "execute_result",
          "data": {
            "text/plain": [
              "array(['Yes', 'Yes', 'Yes', 'No', 'Yes', 'Yes', 'No', 'Yes', 'Yes', 'No',\n",
              "       'No'], dtype=object)"
            ]
          },
          "metadata": {},
          "execution_count": 170
        }
      ]
    },
    {
      "cell_type": "code",
      "source": [
        "x_test"
      ],
      "metadata": {
        "colab": {
          "base_uri": "https://localhost:8080/"
        },
        "id": "jhu0pco5Lsfo",
        "outputId": "3caf6818-261f-4512-f860-a0fe9c5da224"
      },
      "execution_count": null,
      "outputs": [
        {
          "output_type": "execute_result",
          "data": {
            "text/plain": [
              "array([[0, 1, 0, 1],\n",
              "       [2, 0, 1, 1],\n",
              "       [2, 1, 0, 1]], dtype=object)"
            ]
          },
          "metadata": {},
          "execution_count": 171
        }
      ]
    },
    {
      "cell_type": "code",
      "source": [
        "y_test"
      ],
      "metadata": {
        "colab": {
          "base_uri": "https://localhost:8080/"
        },
        "id": "1UI8CruTLuPb",
        "outputId": "0732df4a-25d5-4f1f-e1b6-e094cb291d01"
      },
      "execution_count": null,
      "outputs": [
        {
          "output_type": "execute_result",
          "data": {
            "text/plain": [
              "array(['Yes', 'Yes', 'No'], dtype=object)"
            ]
          },
          "metadata": {},
          "execution_count": 172
        }
      ]
    },
    {
      "cell_type": "code",
      "source": [
        "len(x_train)"
      ],
      "metadata": {
        "colab": {
          "base_uri": "https://localhost:8080/"
        },
        "id": "kwIEFypRYEz-",
        "outputId": "e1dcfb03-98f5-492c-cc8e-8a939f51de33"
      },
      "execution_count": null,
      "outputs": [
        {
          "output_type": "execute_result",
          "data": {
            "text/plain": [
              "11"
            ]
          },
          "metadata": {},
          "execution_count": 173
        }
      ]
    },
    {
      "cell_type": "code",
      "source": [
        "len(x_test)"
      ],
      "metadata": {
        "colab": {
          "base_uri": "https://localhost:8080/"
        },
        "id": "VZxCEE3JYHZz",
        "outputId": "bae14995-0c14-47fa-abf5-48c74b39e4ab"
      },
      "execution_count": null,
      "outputs": [
        {
          "output_type": "execute_result",
          "data": {
            "text/plain": [
              "3"
            ]
          },
          "metadata": {},
          "execution_count": 174
        }
      ]
    },
    {
      "cell_type": "code",
      "source": [
        "from sklearn.naive_bayes import GaussianNB"
      ],
      "metadata": {
        "id": "WG3XCboXLxAD"
      },
      "execution_count": null,
      "outputs": []
    },
    {
      "cell_type": "code",
      "source": [
        "model = GaussianNB ()\n",
        "model.fit(x_train, y_train)\n",
        "a = model.predict(x_test)"
      ],
      "metadata": {
        "id": "a8cSJNTPL6Kk"
      },
      "execution_count": null,
      "outputs": []
    },
    {
      "cell_type": "code",
      "source": [
        "model. predict(x_test)"
      ],
      "metadata": {
        "colab": {
          "base_uri": "https://localhost:8080/"
        },
        "id": "pC6uGeIKMxJN",
        "outputId": "a670bf77-8b20-4d49-f1ba-6bf13168a9e7"
      },
      "execution_count": null,
      "outputs": [
        {
          "output_type": "execute_result",
          "data": {
            "text/plain": [
              "array(['Yes', 'Yes', 'No'], dtype='<U3')"
            ]
          },
          "metadata": {},
          "execution_count": 177
        }
      ]
    },
    {
      "cell_type": "code",
      "source": [
        "print(model.predict([[2, 2, 1, 0]]))"
      ],
      "metadata": {
        "colab": {
          "base_uri": "https://localhost:8080/"
        },
        "id": "2ZXMsBpDVpTH",
        "outputId": "03ac5d98-745e-49d7-9793-b799b207656a"
      },
      "execution_count": null,
      "outputs": [
        {
          "output_type": "stream",
          "name": "stdout",
          "text": [
            "['No']\n"
          ]
        }
      ]
    },
    {
      "cell_type": "code",
      "source": [
        "model. score(x_test, y_test)"
      ],
      "metadata": {
        "colab": {
          "base_uri": "https://localhost:8080/"
        },
        "id": "Fsq1he2KMzuz",
        "outputId": "65ffd1d9-0c06-40d1-90c2-07cec659d03c"
      },
      "execution_count": null,
      "outputs": [
        {
          "output_type": "execute_result",
          "data": {
            "text/plain": [
              "1.0"
            ]
          },
          "metadata": {},
          "execution_count": 159
        }
      ]
    },
    {
      "cell_type": "code",
      "source": [
        "from sklearn. metrics import confusion_matrix, accuracy_score"
      ],
      "metadata": {
        "id": "LkGXjZNDM4wE"
      },
      "execution_count": null,
      "outputs": []
    },
    {
      "cell_type": "code",
      "source": [
        "cm = confusion_matrix(y_test,a)\n",
        "cm"
      ],
      "metadata": {
        "colab": {
          "base_uri": "https://localhost:8080/"
        },
        "id": "IUdt4ocUNdkF",
        "outputId": "68e590b3-54a9-49a2-e9be-a374e1227efb"
      },
      "execution_count": null,
      "outputs": [
        {
          "output_type": "execute_result",
          "data": {
            "text/plain": [
              "array([[2, 0],\n",
              "       [0, 5]])"
            ]
          },
          "metadata": {},
          "execution_count": 161
        }
      ]
    },
    {
      "cell_type": "code",
      "source": [
        "accuracy_score(y_test, a)"
      ],
      "metadata": {
        "colab": {
          "base_uri": "https://localhost:8080/"
        },
        "id": "IphlxfayNnax",
        "outputId": "3a14e3cf-7402-46a5-b46a-a421cd1c3183"
      },
      "execution_count": null,
      "outputs": [
        {
          "output_type": "execute_result",
          "data": {
            "text/plain": [
              "1.0"
            ]
          },
          "metadata": {},
          "execution_count": 162
        }
      ]
    },
    {
      "cell_type": "code",
      "source": [
        "print(model.predict([[1, 0, 1, 0]]))"
      ],
      "metadata": {
        "colab": {
          "base_uri": "https://localhost:8080/"
        },
        "id": "xpp5wUYoQhTI",
        "outputId": "6a4aacfe-aa42-4aa8-ab83-2ec62ec12827"
      },
      "execution_count": null,
      "outputs": [
        {
          "output_type": "stream",
          "name": "stdout",
          "text": [
            "['Yes']\n"
          ]
        }
      ]
    },
    {
      "cell_type": "code",
      "source": [
        "plt.scatter(x[:,0],x[:,1])\n",
        "plt.title(\"Scatter plot\")\n",
        "plt.xlabel(\"abx\",size=16,color=\"red\")\n",
        "plt.ylabel(\"avvvv\",size=16,color=\"Yellow\")\n",
        "plt. show()"
      ],
      "metadata": {
        "colab": {
          "base_uri": "https://localhost:8080/",
          "height": 258
        },
        "id": "nzRNyIneaH1w",
        "outputId": "f419032d-c2ab-41c6-9a5f-25497b68ad90"
      },
      "execution_count": null,
      "outputs": [
        {
          "output_type": "display_data",
          "data": {
            "text/plain": [
              "<Figure size 640x480 with 1 Axes>"
            ],
            "image/png": "[encoded data removed]"
          },
          "metadata": {}
        }
      ]
    }
  ]
}