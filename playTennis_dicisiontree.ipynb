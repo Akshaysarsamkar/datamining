{
  "nbformat": 4,
  "nbformat_minor": 0,
  "metadata": {
    "colab": {
      "provenance": [],
      "authorship_tag": "ABX9TyPc14CoC/QFz0k1U5CfHrkE",
      "include_colab_link": true
    },
    "kernelspec": {
      "name": "python3",
      "display_name": "Python 3"
    },
    "language_info": {
      "name": "python"
    }
  },
  "cells": [
    {
      "cell_type": "markdown",
      "metadata": {
        "id": "view-in-github",
        "colab_type": "text"
      },
      "source": [
        "<a href=\"https://colab.research.google.com/github/Akshaysarsamkar/datamining/blob/main/playTennis_dicisiontree.ipynb\" target=\"_parent\"><img src=\"https://colab.research.google.com/assets/colab-badge.svg\" alt=\"Open In Colab\"/></a>"
      ]
    },
    {
      "cell_type": "markdown",
      "source": [
        "Import Library"
      ],
      "metadata": {
        "id": "W4gpgGgoGwXA"
      }
    },
    {
      "cell_type": "code",
      "source": [
        "import pandas as pd\n",
        "import numpy as np\n",
        "import seaborn as sns"
      ],
      "metadata": {
        "id": "6G-7BFodG26p"
      },
      "execution_count": null,
      "outputs": []
    },
    {
      "cell_type": "markdown",
      "source": [
        "Import DataSet"
      ],
      "metadata": {
        "id": "INwglmVaG_HV"
      }
    },
    {
      "cell_type": "code",
      "source": [
        "df = pd.DataFrame({\n",
        "   'outlook' : [\n",
        "\"Sunny\",\n",
        "\"Sunny\",\n",
        "\"Overcast\",\n",
        "\"Rain\",\n",
        "\"Rain\",\n",
        "\"Rain\",\n",
        "\"Overcast\",\n",
        "\"Sunny\",\n",
        "\"Sunny\",\n",
        "\"Rain\",\n",
        "\"Sunny\",\n",
        "\"Overcast\",\n",
        "\"Overcast\",\n",
        "\"Rain\" ],\n",
        "\n",
        "'Temperature' : [\n",
        "\"Hot\",\n",
        "\"Hot\",\n",
        "\"Hot\",\n",
        "\"Mild\",\n",
        "\"Cool\",\n",
        "\"Cool\",\n",
        "\"Cool\",\n",
        "\"Mild\",\n",
        "\"Cool\",\n",
        "\"Mild\",\n",
        "\"Mild\",\n",
        "\"Mild\",\n",
        "\"Hot\",\n",
        "\"Mild\"],\n",
        "\n",
        "'Humidity' : [\n",
        "\"High\",\n",
        "\"High\",\n",
        "\"High\",\n",
        "\"High\",\n",
        "\"Normal\",\n",
        "\"Normal\",\n",
        "\"Normal\",\n",
        "\"High\",\n",
        "\"Normal\",\n",
        "\"Normal\",\n",
        "\"Normal\",\n",
        "\"High\",\n",
        "\"Normal\",\n",
        "\"High\"\n",
        "],\n",
        "\n",
        "'Wind': [\n",
        "\"Weak\",\n",
        "\"Strong\",\n",
        "\"Weak\",\n",
        "\"Weak\",\n",
        "\"Weak\",\n",
        "\"Strong\",\n",
        "\"Strong\",\n",
        "\"Weak\",\n",
        "\"Weak\",\n",
        "\"Weak\",\n",
        "\"Strong\",\n",
        "\"Strong\",\n",
        "\"Weak\",\n",
        "\"Strong\"\n",
        "],\n",
        "\n",
        "'PlayTennis': [\n",
        "\"No\",\n",
        "\"No\",\n",
        "\"Yes\",\n",
        "\"Yes\",\n",
        "\"Yes\",\n",
        "\"No\",\n",
        "\"Yes\",\n",
        "\"No\",\n",
        "\"Yes\",\n",
        "\"Yes\",\n",
        "\"Yes\",\n",
        "\"Yes\",\n",
        "\"Yes\",\n",
        "\"No\"\n",
        "]\n",
        "\n",
        "})\n",
        "\n",
        "\n",
        "print (df)"
      ],
      "metadata": {
        "colab": {
          "base_uri": "https://localhost:8080/"
        },
        "id": "w3kDutN9HB1Y",
        "outputId": "37b72f3e-f691-4a90-a4e1-b6db2cd09876"
      },
      "execution_count": null,
      "outputs": [
        {
          "output_type": "stream",
          "name": "stdout",
          "text": [
            "     outlook Temperature Humidity    Wind PlayTennis\n",
            "0      Sunny         Hot     High    Weak         No\n",
            "1      Sunny         Hot     High  Strong         No\n",
            "2   Overcast         Hot     High    Weak        Yes\n",
            "3       Rain        Mild     High    Weak        Yes\n",
            "4       Rain        Cool   Normal    Weak        Yes\n",
            "5       Rain        Cool   Normal  Strong         No\n",
            "6   Overcast        Cool   Normal  Strong        Yes\n",
            "7      Sunny        Mild     High    Weak         No\n",
            "8      Sunny        Cool   Normal    Weak        Yes\n",
            "9       Rain        Mild   Normal    Weak        Yes\n",
            "10     Sunny        Mild   Normal  Strong        Yes\n",
            "11  Overcast        Mild     High  Strong        Yes\n",
            "12  Overcast         Hot   Normal    Weak        Yes\n",
            "13      Rain        Mild     High  Strong         No\n"
          ]
        }
      ]
    },
    {
      "cell_type": "code",
      "source": [
        "print (type(df))"
      ],
      "metadata": {
        "colab": {
          "base_uri": "https://localhost:8080/"
        },
        "id": "DUzCgkh5Mwn2",
        "outputId": "c6560cf0-b01a-45af-edbf-ca7ebfee10a7"
      },
      "execution_count": null,
      "outputs": [
        {
          "output_type": "stream",
          "name": "stdout",
          "text": [
            "<class 'pandas.core.frame.DataFrame'>\n"
          ]
        }
      ]
    },
    {
      "cell_type": "markdown",
      "source": [
        "Extracting Dependents and Independent Variable"
      ],
      "metadata": {
        "id": "Klzt6BHrHbNN"
      }
    },
    {
      "cell_type": "code",
      "source": [
        "x = df.iloc[:, :-1].values\n",
        "y = df. iloc[:,4].values\n",
        "#y = df.PlayTennis.values\n",
        "y"
      ],
      "metadata": {
        "colab": {
          "base_uri": "https://localhost:8080/"
        },
        "id": "DXphJDJSHoRC",
        "outputId": "8502f576-24b9-4104-cfa5-d735cf0ee6af"
      },
      "execution_count": null,
      "outputs": [
        {
          "output_type": "execute_result",
          "data": {
            "text/plain": [
              "array(['No', 'No', 'Yes', 'Yes', 'Yes', 'No', 'Yes', 'No', 'Yes', 'Yes',\n",
              "       'Yes', 'Yes', 'Yes', 'No'], dtype=object)"
            ]
          },
          "metadata": {},
          "execution_count": 16
        }
      ]
    },
    {
      "cell_type": "markdown",
      "source": [
        "Manageing Missing Data"
      ],
      "metadata": {
        "id": "sTD6aYiLIWlq"
      }
    },
    {
      "cell_type": "code",
      "source": [
        "from sklearn.impute import SimpleImputer"
      ],
      "metadata": {
        "id": "O1s4Qg3dIZ6L"
      },
      "execution_count": null,
      "outputs": []
    },
    {
      "cell_type": "code",
      "source": [
        "imputer = SimpleImputer(missing_values = np.nan,strategy='mean')\n",
        "#imputer. fit(x[:,1:5])\n",
        "#x[:,1:5] = imputer.transform(x[:, 1:5])"
      ],
      "metadata": {
        "id": "Ze4WGl6hI5ES"
      },
      "execution_count": null,
      "outputs": []
    },
    {
      "cell_type": "markdown",
      "source": [
        "Handing Categorical data"
      ],
      "metadata": {
        "id": "AwYSwABnK_Fm"
      }
    },
    {
      "cell_type": "code",
      "source": [
        "from sklearn.preprocessing import LabelEncoder\n",
        "encoder_x = LabelEncoder ()\n",
        "x[:, 0]= encoder_x.fit_transform (x[:,0])\n",
        "#print (x)\n",
        "\n",
        "x[:,1]= encoder_x.fit_transform (x[:,1])\n",
        "x[:,2] = encoder_x.fit_transform (x[:, 2])\n",
        "x[:,3]= encoder_x.fit_transform (x[:,3])\n",
        "print (x)"
      ],
      "metadata": {
        "colab": {
          "base_uri": "https://localhost:8080/"
        },
        "id": "4MH9heA5LCMf",
        "outputId": "b533852f-fbf9-4ae3-ea1d-583cd10b99ee"
      },
      "execution_count": null,
      "outputs": [
        {
          "output_type": "stream",
          "name": "stdout",
          "text": [
            "[[2 1 0 1]\n",
            " [2 1 0 0]\n",
            " [0 1 0 1]\n",
            " [1 2 0 1]\n",
            " [1 0 1 1]\n",
            " [1 0 1 0]\n",
            " [0 0 1 0]\n",
            " [2 2 0 1]\n",
            " [2 0 1 1]\n",
            " [1 2 1 1]\n",
            " [2 2 1 0]\n",
            " [0 2 0 0]\n",
            " [0 1 1 1]\n",
            " [1 2 0 0]]\n"
          ]
        }
      ]
    },
    {
      "cell_type": "code",
      "source": [
        "encoder_y = LabelEncoder ()\n",
        "encoder_y.fit_transform (y)"
      ],
      "metadata": {
        "colab": {
          "base_uri": "https://localhost:8080/"
        },
        "id": "XIFlqCuKRCtV",
        "outputId": "311848ff-e33e-4625-b439-9b60d12670d6"
      },
      "execution_count": null,
      "outputs": [
        {
          "output_type": "execute_result",
          "data": {
            "text/plain": [
              "array([0, 0, 1, 1, 1, 0, 1, 0, 1, 1, 1, 1, 1, 0])"
            ]
          },
          "metadata": {},
          "execution_count": 20
        }
      ]
    },
    {
      "cell_type": "markdown",
      "source": [
        " Splitting the Dataset into Training and Testing Datasets"
      ],
      "metadata": {
        "id": "Um00xJ_-RRn5"
      }
    },
    {
      "cell_type": "code",
      "source": [
        "from sklearn.model_selection import train_test_split"
      ],
      "metadata": {
        "id": "qIEjW_5dRRE8"
      },
      "execution_count": null,
      "outputs": []
    },
    {
      "cell_type": "code",
      "source": [
        "x_train, x_test, y_train, y_test = train_test_split(x, y,test_size=0.2,random_state=0)"
      ],
      "metadata": {
        "id": "43ghY4N6Rqdf"
      },
      "execution_count": null,
      "outputs": []
    },
    {
      "cell_type": "code",
      "source": [
        "x_train"
      ],
      "metadata": {
        "colab": {
          "base_uri": "https://localhost:8080/"
        },
        "id": "ZLNL4U-NST_G",
        "outputId": "c46b18f5-37a3-490b-c4d2-43a8474e3137"
      },
      "execution_count": null,
      "outputs": [
        {
          "output_type": "execute_result",
          "data": {
            "text/plain": [
              "array([[0, 2, 0, 0],\n",
              "       [0, 1, 0, 1],\n",
              "       [1, 2, 0, 0],\n",
              "       [1, 2, 1, 1],\n",
              "       [2, 1, 0, 0],\n",
              "       [2, 2, 0, 1],\n",
              "       [2, 2, 1, 0],\n",
              "       [1, 2, 0, 1],\n",
              "       [2, 1, 0, 1],\n",
              "       [1, 0, 1, 0],\n",
              "       [0, 1, 1, 1]], dtype=object)"
            ]
          },
          "metadata": {},
          "execution_count": 23
        }
      ]
    },
    {
      "cell_type": "code",
      "source": [
        "x_test"
      ],
      "metadata": {
        "colab": {
          "base_uri": "https://localhost:8080/"
        },
        "id": "QapvzyUASfFU",
        "outputId": "1df441a8-0a4e-4ed6-bb48-dc938c9b10d2"
      },
      "execution_count": null,
      "outputs": [
        {
          "output_type": "execute_result",
          "data": {
            "text/plain": [
              "array([[2, 0, 1, 1],\n",
              "       [0, 0, 1, 0],\n",
              "       [1, 0, 1, 1]], dtype=object)"
            ]
          },
          "metadata": {},
          "execution_count": 24
        }
      ]
    },
    {
      "cell_type": "code",
      "source": [
        "y_test"
      ],
      "metadata": {
        "colab": {
          "base_uri": "https://localhost:8080/"
        },
        "id": "mtLj6_ulSh6i",
        "outputId": "eb66e331-5433-4ce9-ac61-fe367ff19a8f"
      },
      "execution_count": null,
      "outputs": [
        {
          "output_type": "execute_result",
          "data": {
            "text/plain": [
              "array(['Yes', 'Yes', 'Yes'], dtype=object)"
            ]
          },
          "metadata": {},
          "execution_count": 25
        }
      ]
    },
    {
      "cell_type": "code",
      "source": [
        "y_train"
      ],
      "metadata": {
        "colab": {
          "base_uri": "https://localhost:8080/"
        },
        "id": "1vHltiqdSp7y",
        "outputId": "86b73693-8a07-4b6c-bb35-fbaa1ec55704"
      },
      "execution_count": null,
      "outputs": [
        {
          "output_type": "execute_result",
          "data": {
            "text/plain": [
              "array(['Yes', 'Yes', 'No', 'Yes', 'No', 'No', 'Yes', 'Yes', 'No', 'No',\n",
              "       'Yes'], dtype=object)"
            ]
          },
          "metadata": {},
          "execution_count": 26
        }
      ]
    },
    {
      "cell_type": "markdown",
      "source": [
        "Feature Scaling:"
      ],
      "metadata": {
        "id": "yLYKRRRjTCa_"
      }
    },
    {
      "cell_type": "code",
      "source": [
        "from sklearn.preprocessing import StandardScaler"
      ],
      "metadata": {
        "id": "F6j464WhTDSp"
      },
      "execution_count": null,
      "outputs": []
    },
    {
      "cell_type": "code",
      "source": [
        "ts_x = StandardScaler()\n",
        "x_train =ts_x.fit_transform(x_train)\n",
        "x_train"
      ],
      "metadata": {
        "colab": {
          "base_uri": "https://localhost:8080/"
        },
        "id": "i_dRXZg9TQeg",
        "outputId": "d830efe0-bb31-4e53-e47b-1c3d465c2bb9"
      },
      "execution_count": null,
      "outputs": [
        {
          "output_type": "execute_result",
          "data": {
            "text/plain": [
              "array([[-1.3764944 ,  0.83205029, -0.75592895, -1.09544512],\n",
              "       [-1.3764944 , -0.69337525, -0.75592895,  0.91287093],\n",
              "       [-0.11470787,  0.83205029, -0.75592895, -1.09544512],\n",
              "       [-0.11470787,  0.83205029,  1.32287566,  0.91287093],\n",
              "       [ 1.14707867, -0.69337525, -0.75592895, -1.09544512],\n",
              "       [ 1.14707867,  0.83205029, -0.75592895,  0.91287093],\n",
              "       [ 1.14707867,  0.83205029,  1.32287566, -1.09544512],\n",
              "       [-0.11470787,  0.83205029, -0.75592895,  0.91287093],\n",
              "       [ 1.14707867, -0.69337525, -0.75592895,  0.91287093],\n",
              "       [-0.11470787, -2.21880078,  1.32287566, -1.09544512],\n",
              "       [-1.3764944 , -0.69337525,  1.32287566,  0.91287093]])"
            ]
          },
          "metadata": {},
          "execution_count": 28
        }
      ]
    },
    {
      "cell_type": "code",
      "source": [
        "x_test = ts_x.transform(x_test)\n",
        "x_test"
      ],
      "metadata": {
        "colab": {
          "base_uri": "https://localhost:8080/"
        },
        "id": "nlj83KM8Tyf_",
        "outputId": "30b841e5-b12b-4ca1-8137-44469cc4d45e"
      },
      "execution_count": null,
      "outputs": [
        {
          "output_type": "execute_result",
          "data": {
            "text/plain": [
              "array([[ 1.14707867, -2.21880078,  1.32287566,  0.91287093],\n",
              "       [-1.3764944 , -2.21880078,  1.32287566, -1.09544512],\n",
              "       [-0.11470787, -2.21880078,  1.32287566,  0.91287093]])"
            ]
          },
          "metadata": {},
          "execution_count": 29
        }
      ]
    },
    {
      "cell_type": "markdown",
      "source": [
        "Dicision Tree continues"
      ],
      "metadata": {
        "id": "mRCykKxN0HQh"
      }
    },
    {
      "cell_type": "markdown",
      "source": [
        "Fitting a Decision-Tree algorithm to the Training set"
      ],
      "metadata": {
        "id": "derlXrGo0LM4"
      }
    },
    {
      "cell_type": "code",
      "source": [
        "from sklearn.tree import DecisionTreeClassifier"
      ],
      "metadata": {
        "id": "gjEjw-r70Pzc"
      },
      "execution_count": null,
      "outputs": []
    },
    {
      "cell_type": "code",
      "source": [
        "classfier = DecisionTreeClassifier (criterion='entropy', random_state=0)"
      ],
      "metadata": {
        "id": "2Mow6CsA0ngD"
      },
      "execution_count": null,
      "outputs": []
    },
    {
      "cell_type": "code",
      "source": [
        "classfier.fit(x_train, y_train)"
      ],
      "metadata": {
        "colab": {
          "base_uri": "https://localhost:8080/",
          "height": 94
        },
        "id": "Aef05LVr04Im",
        "outputId": "cb4b6e05-90fb-4578-932a-42065d9c1aee"
      },
      "execution_count": null,
      "outputs": [
        {
          "output_type": "execute_result",
          "data": {
            "text/plain": [
              "DecisionTreeClassifier(criterion='entropy', random_state=0)"
            ],
            "text/html": [
              "<style>#sk-container-id-3 {color: black;background-color: white;}#sk-container-id-3 pre{padding: 0;}#sk-container-id-3 div.sk-toggleable {background-color: white;}#sk-container-id-3 label.sk-toggleable__label {cursor: pointer;display: block;width: 100%;margin-bottom: 0;padding: 0.3em;box-sizing: border-box;text-align: center;}#sk-container-id-3 label.sk-toggleable__label-arrow:before {content: \"▸\";float: left;margin-right: 0.25em;color: #696969;}#sk-container-id-3 label.sk-toggleable__label-arrow:hover:before {color: black;}#sk-container-id-3 div.sk-estimator:hover label.sk-toggleable__label-arrow:before {color: black;}#sk-container-id-3 div.sk-toggleable__content {max-height: 0;max-width: 0;overflow: hidden;text-align: left;background-color: #f0f8ff;}#sk-container-id-3 div.sk-toggleable__content pre {margin: 0.2em;color: black;border-radius: 0.25em;background-color: #f0f8ff;}#sk-container-id-3 input.sk-toggleable__control:checked~div.sk-toggleable__content {max-height: 200px;max-width: 100%;overflow: auto;}#sk-container-id-3 input.sk-toggleable__control:checked~label.sk-toggleable__label-arrow:before {content: \"▾\";}#sk-container-id-3 div.sk-estimator input.sk-toggleable__control:checked~label.sk-toggleable__label {background-color: #d4ebff;}#sk-container-id-3 div.sk-label input.sk-toggleable__control:checked~label.sk-toggleable__label {background-color: #d4ebff;}#sk-container-id-3 input.sk-hidden--visually {border: 0;clip: rect(1px 1px 1px 1px);clip: rect(1px, 1px, 1px, 1px);height: 1px;margin: -1px;overflow: hidden;padding: 0;position: absolute;width: 1px;}#sk-container-id-3 div.sk-estimator {font-family: monospace;background-color: #f0f8ff;border: 1px dotted black;border-radius: 0.25em;box-sizing: border-box;margin-bottom: 0.5em;}#sk-container-id-3 div.sk-estimator:hover {background-color: #d4ebff;}#sk-container-id-3 div.sk-parallel-item::after {content: \"\";width: 100%;border-bottom: 1px solid gray;flex-grow: 1;}#sk-container-id-3 div.sk-label:hover label.sk-toggleable__label {background-color: #d4ebff;}#sk-container-id-3 div.sk-serial::before {content: \"\";position: absolute;border-left: 1px solid gray;box-sizing: border-box;top: 0;bottom: 0;left: 50%;z-index: 0;}#sk-container-id-3 div.sk-serial {display: flex;flex-direction: column;align-items: center;background-color: white;padding-right: 0.2em;padding-left: 0.2em;position: relative;}#sk-container-id-3 div.sk-item {position: relative;z-index: 1;}#sk-container-id-3 div.sk-parallel {display: flex;align-items: stretch;justify-content: center;background-color: white;position: relative;}#sk-container-id-3 div.sk-item::before, #sk-container-id-3 div.sk-parallel-item::before {content: \"\";position: absolute;border-left: 1px solid gray;box-sizing: border-box;top: 0;bottom: 0;left: 50%;z-index: -1;}#sk-container-id-3 div.sk-parallel-item {display: flex;flex-direction: column;z-index: 1;position: relative;background-color: white;}#sk-container-id-3 div.sk-parallel-item:first-child::after {align-self: flex-end;width: 50%;}#sk-container-id-3 div.sk-parallel-item:last-child::after {align-self: flex-start;width: 50%;}#sk-container-id-3 div.sk-parallel-item:only-child::after {width: 0;}#sk-container-id-3 div.sk-dashed-wrapped {border: 1px dashed gray;margin: 0 0.4em 0.5em 0.4em;box-sizing: border-box;padding-bottom: 0.4em;background-color: white;}#sk-container-id-3 div.sk-label label {font-family: monospace;font-weight: bold;display: inline-block;line-height: 1.2em;}#sk-container-id-3 div.sk-label-container {text-align: center;}#sk-container-id-3 div.sk-container {/* jupyter's `normalize.less` sets `[hidden] { display: none; }` but bootstrap.min.css set `[hidden] { display: none !important; }` so we also need the `!important` here to be able to override the default hidden behavior on the sphinx rendered scikit-learn.org. See: https://github.com/scikit-learn/scikit-learn/issues/21755 */display: inline-block !important;position: relative;}#sk-container-id-3 div.sk-text-repr-fallback {display: none;}</style><div id=\"sk-container-id-3\" class=\"sk-top-container\"><div class=\"sk-text-repr-fallback\"><pre>DecisionTreeClassifier(criterion=&#x27;entropy&#x27;, random_state=0)</pre><b>In a Jupyter environment, please rerun this cell to show the HTML representation or trust the notebook. <br />On GitHub, the HTML representation is unable to render, please try loading this page with nbviewer.org.</b></div><div class=\"sk-container\" hidden><div class=\"sk-item\"><div class=\"sk-estimator sk-toggleable\"><input class=\"sk-toggleable__control sk-hidden--visually\" id=\"sk-estimator-id-3\" type=\"checkbox\" checked><label for=\"sk-estimator-id-3\" class=\"sk-toggleable__label sk-toggleable__label-arrow\">DecisionTreeClassifier</label><div class=\"sk-toggleable__content\"><pre>DecisionTreeClassifier(criterion=&#x27;entropy&#x27;, random_state=0)</pre></div></div></div></div></div>"
            ]
          },
          "metadata": {},
          "execution_count": 48
        }
      ]
    },
    {
      "cell_type": "markdown",
      "source": [
        "Predicting the test result"
      ],
      "metadata": {
        "id": "4rZTYc3v1eaC"
      }
    },
    {
      "cell_type": "code",
      "source": [
        "y_pred= classfier.predict(x_test)\n",
        "y_pred"
      ],
      "metadata": {
        "colab": {
          "base_uri": "https://localhost:8080/"
        },
        "id": "E6j6uy312eNE",
        "outputId": "6126d5a6-3490-4498-ae2b-759769518722"
      },
      "execution_count": null,
      "outputs": [
        {
          "output_type": "execute_result",
          "data": {
            "text/plain": [
              "array(['No', 'Yes', 'No'], dtype=object)"
            ]
          },
          "metadata": {},
          "execution_count": 49
        }
      ]
    },
    {
      "cell_type": "code",
      "source": [
        "x_test"
      ],
      "metadata": {
        "colab": {
          "base_uri": "https://localhost:8080/"
        },
        "id": "7gBzMKwU7vyO",
        "outputId": "b38ebc80-6be5-4ec7-adc6-49ebb63c313b"
      },
      "execution_count": null,
      "outputs": [
        {
          "output_type": "execute_result",
          "data": {
            "text/plain": [
              "array([[ 1.14707867, -2.21880078,  1.32287566,  0.91287093],\n",
              "       [-1.3764944 , -2.21880078,  1.32287566, -1.09544512],\n",
              "       [-0.11470787, -2.21880078,  1.32287566,  0.91287093]])"
            ]
          },
          "metadata": {},
          "execution_count": 50
        }
      ]
    },
    {
      "cell_type": "code",
      "source": [
        "classfier.score(x_test, y_test)"
      ],
      "metadata": {
        "colab": {
          "base_uri": "https://localhost:8080/"
        },
        "id": "peOkZe0j505x",
        "outputId": "5de07a92-34fe-4b8d-8221-7f2de1fd7304"
      },
      "execution_count": null,
      "outputs": [
        {
          "output_type": "execute_result",
          "data": {
            "text/plain": [
              "0.3333333333333333"
            ]
          },
          "metadata": {},
          "execution_count": 51
        }
      ]
    },
    {
      "cell_type": "code",
      "source": [
        "from sklearn import tree\n",
        "tree.plot_tree(classfier,filled=True)"
      ],
      "metadata": {
        "colab": {
          "base_uri": "https://localhost:8080/",
          "height": 854
        },
        "id": "obQOc7vj6WRf",
        "outputId": "e9e8d92e-de47-48d0-f708-947acb1cb6e1"
      },
      "execution_count": null,
      "outputs": [
        {
          "output_type": "execute_result",
          "data": {
            "text/plain": [
              "[Text(0.3333333333333333, 0.9166666666666666, 'x[0] <= -0.746\\nentropy = 0.994\\nsamples = 11\\nvalue = [5, 6]'),\n",
              " Text(0.16666666666666666, 0.75, 'entropy = 0.0\\nsamples = 3\\nvalue = [0, 3]'),\n",
              " Text(0.5, 0.75, 'x[1] <= 0.069\\nentropy = 0.954\\nsamples = 8\\nvalue = [5, 3]'),\n",
              " Text(0.3333333333333333, 0.5833333333333334, 'entropy = 0.0\\nsamples = 3\\nvalue = [3, 0]'),\n",
              " Text(0.6666666666666666, 0.5833333333333334, 'x[2] <= 0.283\\nentropy = 0.971\\nsamples = 5\\nvalue = [2, 3]'),\n",
              " Text(0.5, 0.4166666666666667, 'x[0] <= 0.516\\nentropy = 0.918\\nsamples = 3\\nvalue = [2, 1]'),\n",
              " Text(0.3333333333333333, 0.25, 'x[3] <= -0.091\\nentropy = 1.0\\nsamples = 2\\nvalue = [1, 1]'),\n",
              " Text(0.16666666666666666, 0.08333333333333333, 'entropy = 0.0\\nsamples = 1\\nvalue = [1, 0]'),\n",
              " Text(0.5, 0.08333333333333333, 'entropy = 0.0\\nsamples = 1\\nvalue = [0, 1]'),\n",
              " Text(0.6666666666666666, 0.25, 'entropy = 0.0\\nsamples = 1\\nvalue = [1, 0]'),\n",
              " Text(0.8333333333333334, 0.4166666666666667, 'entropy = 0.0\\nsamples = 2\\nvalue = [0, 2]')]"
            ]
          },
          "metadata": {},
          "execution_count": 52
        },
        {
          "output_type": "display_data",
          "data": {
            "text/plain": [
              "<Figure size 640x480 with 1 Axes>"
            ],
            "image/png": "[encoded data removed]"
          },
          "metadata": {}
        }
      ]
    },
    {
      "cell_type": "markdown",
      "source": [
        "4. Test accuracy of the result (Creation of Confusion matrix)"
      ],
      "metadata": {
        "id": "j5lqGqAG18ig"
      }
    },
    {
      "cell_type": "code",
      "source": [
        "from sklearn.metrics import confusion_matrix\n",
        "cm= confusion_matrix(y_test, y_pred)\n",
        "cm"
      ],
      "metadata": {
        "colab": {
          "base_uri": "https://localhost:8080/"
        },
        "id": "amj5nwn619ph",
        "outputId": "874c2bff-5c86-4b5e-8b33-4dc74421a747"
      },
      "execution_count": null,
      "outputs": [
        {
          "output_type": "execute_result",
          "data": {
            "text/plain": [
              "array([[0, 0],\n",
              "       [2, 1]])"
            ]
          },
          "metadata": {},
          "execution_count": 39
        }
      ]
    },
    {
      "cell_type": "markdown",
      "source": [
        "Visualizing the training set result:"
      ],
      "metadata": {
        "id": "8UTdHeeq2sYp"
      }
    },
    {
      "cell_type": "code",
      "source": [
        "from matplotlib.colors import ListedColormap"
      ],
      "metadata": {
        "id": "fqxxz0ST2tOO"
      },
      "execution_count": null,
      "outputs": []
    }
  ]
}